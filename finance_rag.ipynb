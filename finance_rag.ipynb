{
 "cells": [
  {
   "cell_type": "markdown",
   "id": "7f5bf3e0",
   "metadata": {},
   "source": [
    "#### Step 1. Install Python libraries in venv"
   ]
  },
  {
   "cell_type": "code",
   "execution_count": null,
   "id": "7e03899a",
   "metadata": {},
   "outputs": [],
   "source": [
    "! pip install langchain langchain-core langchain-community langchain-ollama langchain-text-splitters chromadb pypdf"
   ]
  },
  {
   "cell_type": "markdown",
   "id": "9186b554",
   "metadata": {},
   "source": [
    "#### Step 2. Load your documents"
   ]
  },
  {
   "cell_type": "code",
   "execution_count": 1,
   "id": "fb78274a",
   "metadata": {},
   "outputs": [
    {
     "name": "stderr",
     "output_type": "stream",
     "text": [
      "Ignoring wrong pointing object 511 0 (offset 0)\n",
      "Ignoring wrong pointing object 4016 0 (offset 0)\n"
     ]
    }
   ],
   "source": [
    "from langchain_community.document_loaders import PyPDFLoader\n",
    "\n",
    "loader = PyPDFLoader(r\"/home/lucille/Desktop/projects/FinanceBill-Assistant-KE2025/The_Finance_Bill_2025.pdf\") # insert your document path\n",
    "docs = loader.load()"
   ]
  },
  {
   "cell_type": "markdown",
   "id": "89540e9e",
   "metadata": {},
   "source": [
    "#### Step 3. Split data/text into chunks"
   ]
  },
  {
   "cell_type": "code",
   "execution_count": 2,
   "id": "bd702942",
   "metadata": {},
   "outputs": [
    {
     "name": "stdout",
     "output_type": "stream",
     "text": [
      "257\n"
     ]
    }
   ],
   "source": [
    "from langchain_text_splitters import RecursiveCharacterTextSplitter\n",
    "\n",
    "splitter = RecursiveCharacterTextSplitter(chunk_size=1500, chunk_overlap=200)\n",
    "chunks = splitter.split_documents(docs)\n",
    "\n",
    "# Print the number of chunks\n",
    "print(len(chunks))"
   ]
  },
  {
   "cell_type": "markdown",
   "id": "0ba9feed",
   "metadata": {},
   "source": [
    "#### Step 4. Embed the chunks (turn into vectors)"
   ]
  },
  {
   "cell_type": "code",
   "execution_count": 3,
   "id": "bebb2fdd",
   "metadata": {},
   "outputs": [],
   "source": [
    "from langchain_ollama import OllamaEmbeddings\n",
    "\n",
    "embeddings = OllamaEmbeddings(model=\"nomic-embed-text\")"
   ]
  },
  {
   "cell_type": "markdown",
   "id": "396f353b",
   "metadata": {},
   "source": [
    "#### Step 5. Store in a vector database"
   ]
  },
  {
   "cell_type": "code",
   "execution_count": null,
   "id": "7b53de26",
   "metadata": {},
   "outputs": [],
   "source": [
    "from langchain_community.vectorstores import Chroma\n",
    "\n",
    "# # create & persist\n",
    "vectorstore = Chroma.from_documents(\n",
    "    chunks,\n",
    "    embedding=embeddings,\n",
    "    persist_directory=\"./chroma_store\" \n",
    ")\n",
    "\n",
    "# # reload instead of recreating\n",
    "# vectorstore = Chroma(\n",
    "#     persist_directory=\"./chroma_store\",\n",
    "#     embedding_function=embeddings\n",
    "# )\n"
   ]
  },
  {
   "cell_type": "markdown",
   "id": "17d0cb08",
   "metadata": {},
   "source": [
    "#### Step 6. Set Up LLM"
   ]
  },
  {
   "cell_type": "code",
   "execution_count": 5,
   "id": "098589e2",
   "metadata": {},
   "outputs": [],
   "source": [
    "from langchain_ollama.chat_models import ChatOllama\n",
    "\n",
    "# Initialize LLaMA 3.1 (the \"answering brain\")\n",
    "llm = ChatOllama(model=\"llama3.1\", temperature=0)"
   ]
  },
  {
   "cell_type": "markdown",
   "id": "49fdc25f",
   "metadata": {},
   "source": [
    "#### Step 7. Set Up Retriever"
   ]
  },
  {
   "cell_type": "code",
   "execution_count": 11,
   "id": "def49261",
   "metadata": {},
   "outputs": [],
   "source": [
    "from prompt import QUERY_PROMPT, ANSWER_PROMPT\n",
    "from langchain.retrievers.multi_query import MultiQueryRetriever\n",
    "\n",
    "retriever = MultiQueryRetriever.from_llm(\n",
    "    vectorstore.as_retriever(),\n",
    "    llm,\n",
    "    prompt=QUERY_PROMPT\n",
    ")"
   ]
  },
  {
   "cell_type": "code",
   "execution_count": 13,
   "id": "c8a4d325",
   "metadata": {},
   "outputs": [],
   "source": [
    "from langchain.prompts import ChatPromptTemplate, PromptTemplate\n",
    "\n",
    "# RAG prompt Template\n",
    "template = \"\"\"\n",
    "Answer the question based ONLY on the following context:\n",
    "{context}\n",
    "\n",
    "Question: {question}\n",
    "\n",
    "Your response must be in the same language as the question. If the question is in Swahili, respond in Swahili. If it is in English, respond in English.\n",
    "\"\"\"\n",
    "prompt = ChatPromptTemplate.from_template(template)"
   ]
  },
  {
   "cell_type": "markdown",
   "id": "03a52868",
   "metadata": {},
   "source": [
    "#### Step 8. Putting Retriever + Prompt Together"
   ]
  },
  {
   "cell_type": "code",
   "execution_count": 14,
   "id": "7beaf1f6",
   "metadata": {},
   "outputs": [],
   "source": [
    "from langchain_core.output_parsers import StrOutputParser\n",
    "from langchain_core.runnables import RunnablePassthrough\n",
    "\n",
    "\n",
    "parser = StrOutputParser()\n",
    "\n",
    "\n",
    "rag_chain = (\n",
    "     {\"context\": retriever, \"question\": RunnablePassthrough()}\n",
    " | prompt\n",
    " | llm\n",
    " | parser\n",
    ")"
   ]
  },
  {
   "cell_type": "markdown",
   "id": "bfdabb5d",
   "metadata": {},
   "source": [
    "#### Step 9. Ask a question"
   ]
  },
  {
   "cell_type": "code",
   "execution_count": 15,
   "id": "7882fc00",
   "metadata": {},
   "outputs": [],
   "source": [
    "from IPython.display import display, Markdown \n",
    "\n",
    "def ask_rag(question):\n",
    " response = display(Markdown(rag_chain.invoke(question)))\n",
    " return response"
   ]
  },
  {
   "cell_type": "code",
   "execution_count": null,
   "id": "e083b76f",
   "metadata": {},
   "outputs": [
    {
     "data": {
      "text/markdown": [
       "The main idea of this document appears to be a draft or proposal for amendments to the Income Tax Act in Kenya. The document outlines various changes and additions to the tax laws, including provisions related to multinational enterprise groups, country-by-country reporting, and exemptions from taxation for certain types of income. It also includes definitions and explanations of key terms and concepts used in the proposed amendments."
      ],
      "text/plain": [
       "<IPython.core.display.Markdown object>"
      ]
     },
     "metadata": {},
     "output_type": "display_data"
    }
   ],
   "source": [
    "# Question 1\n",
    "\n",
    "ask_rag(\"What is the main idea of this document?\")"
   ]
  },
  {
   "cell_type": "code",
   "execution_count": null,
   "id": "56780faf",
   "metadata": {},
   "outputs": [
    {
     "data": {
      "text/markdown": [
       "The document addresses various taxes including:\n",
       "\n",
       "1. Income Tax\n",
       "2. Value Added Tax (VAT)\n",
       "3. Capital Gains Tax\n",
       "4. Withholding Tax\n",
       "5. Corporation Tax\n",
       "6. Excise Duty\n",
       "7. Stamp Duty\n",
       "8. Pay As You Earn (PAYE) tax\n",
       "\n",
       "These taxes are mentioned in the context of amendments to existing laws and regulations, as well as new provisions aimed at improving tax compliance and administration."
      ],
      "text/plain": [
       "<IPython.core.display.Markdown object>"
      ]
     },
     "metadata": {},
     "output_type": "display_data"
    }
   ],
   "source": [
    "# Question 2\n",
    "\n",
    "ask_rag(\"What Taxes does the document address?\")"
   ]
  },
  {
   "cell_type": "code",
   "execution_count": null,
   "id": "36624762",
   "metadata": {},
   "outputs": [
    {
     "data": {
      "text/markdown": [
       "Mswada wa Fedha wa 2025 unaangazia mabadiliko katika Sheria ya Kifedha (Cap. 470), Sheria ya Kitaifa ya Kifedha (Cap. 476), Sheria ya Kifedha cha Ushuru (Cap. 472), Sheria ya Utendakazi wa Kifedha (Cap. 469B) na Sheria ya Malipo ya Vya Vilevile na Mipango (Cap. 469C). Pia inahusisha kubadilishwa kwa Sheria ya Ushuru wa Stempu ili kuwafungua watumiaji wa ushuru wa stempu kutoka kwa shirika la kampuni kwenda kwa washikadau wake kama sehemu ya mabadiliko ya ndani."
      ],
      "text/plain": [
       "<IPython.core.display.Markdown object>"
      ]
     },
     "metadata": {},
     "output_type": "display_data"
    }
   ],
   "source": [
    "# Question 3\n",
    "\n",
    "ask_rag(\"Mswada wa fedha wa 2025 unahusu nini?\")\n"
   ]
  },
  {
   "cell_type": "code",
   "execution_count": 19,
   "id": "9afb18ee",
   "metadata": {},
   "outputs": [
    {
     "data": {
      "text/markdown": [
       "The document does not mention soccer at all. It appears to be a legislative document related to taxation and financial regulations in Kenya."
      ],
      "text/plain": [
       "<IPython.core.display.Markdown object>"
      ]
     },
     "metadata": {},
     "output_type": "display_data"
    }
   ],
   "source": [
    "# Question 4\n",
    "\n",
    "ask_rag(\"What does the document say about soccer?\")"
   ]
  },
  {
   "cell_type": "code",
   "execution_count": null,
   "id": "5ddc36ce",
   "metadata": {},
   "outputs": [
    {
     "data": {
      "text/markdown": [
       "**English Response**\n",
       "\n",
       "The document discusses various aspects of income tax, including:\n",
       "\n",
       "1. Tax rates: The document mentions different tax rates for individuals and companies, but does not specify the exact rates.\n",
       "2. Deductions: It outlines deductions that can be made from taxable income, such as interest paid on borrowed money, donations to certain institutions, and contributions to a post-retirement medical fund.\n",
       "3. Exemptions: Certain types of income are exempt from tax, including income from the construction of public schools, hospitals, roads, and other social infrastructure.\n",
       "4. Filing requirements: The document mentions that ultimate parent entities and constituent entities must file country-by-country reports with the Commissioner.\n",
       "5. Amendments to assessments: It proposes amendments to section 31 of Cap.469B, which allows the Commissioner to amend assessments based on available information.\n",
       "\n",
       "**Swahili Response**\n",
       "\n",
       "Dokumeni hiki kinajadili mambo mbalimbali ya kodi ya mapato, ikiwemo:\n",
       "\n",
       "1. Kiasi cha kodi: Dokumeni inaelezea viwango tofauti vya kodi kwa watu binafsi na mashirika, lakini haishangaa kiwango gani.\n",
       "2. Kupungua kwa mapato: Inataja mapato ambayo yanaweza kupunguzwa kutoka kwenye mapato yaliyotolewa, kama vile faida iliyopatikana kutokana na biashara ya mawasiliano ya simu au radio.\n",
       "3. Uchaguzi wa kodi: Kuna uwezekano kwamba baadhi ya mapato yanaweza kuachiliwa kodi, ikiwemo mapato yaliyotolewa kutoka kwenye ujenzi wa shule za umma, hospitali, barabara na infrastrukturu nyingine za kijamii.\n",
       "4. Matumizi ya taarifa: Dokumeni inaelezea kwamba makampuni makuu na makampuni yanayohusika lazima yawe na taarifa za kila nchi zinazowasilishwa kwa Komisheni.\n",
       "5. Ubadilishaji wa utambuzi: Inasema kuwa Komisheni inaweza kubadilisha utambuzi kulingana na taarifa iliyopo.\n",
       "\n",
       "Kumbuka kwamba swali lililotolewa liliwekwa katika lugha ya Kiingereza, hivyo jibu langu pia litakuwa katika lugha hiyo."
      ],
      "text/plain": [
       "<IPython.core.display.Markdown object>"
      ]
     },
     "metadata": {},
     "output_type": "display_data"
    }
   ],
   "source": [
    "# Question 5\n",
    "\n",
    "ask_rag(\"What does the document say about Income tax? Response in English first then provide another response in Swahili\")"
   ]
  },
  {
   "cell_type": "code",
   "execution_count": 21,
   "id": "6611c24c",
   "metadata": {},
   "outputs": [
    {
     "data": {
      "text/markdown": [
       "The document discusses various aspects of taxation, including withholding tax. According to Section 13 of Cap.472, a supply of excisable services shall be deemed to be made in Kenya if the services are supplied from a place of business of the supplier in Kenya.\n",
       "\n",
       "Withholding Tax is mentioned in several sections:\n",
       "\n",
       "* Section 17(1) states that the Commissioner shall consider an application under section 16 and may grant or refuse to issue the applicant with a licence, which implies that withholding tax may be applicable to certain activities.\n",
       "* Section 13 of Cap.472 proposes amendments related to the place of supply of excisable services, which may involve withholding tax.\n",
       "\n",
       "However, there is no specific information provided about the rates, thresholds, or procedures for Withholding Tax in the document.\n",
       "\n",
       "In terms of specific details about Withholding Tax, the document mentions:\n",
       "\n",
       "* Section 17(2) states that the Commissioner may refuse an application under section 16 if satisfied that the applicant has been convicted of an offence involving dishonesty or fraud under any law.\n",
       "* Section 13 of Cap.472 proposes amendments related to the place of supply of excisable services, which may involve withholding tax.\n",
       "\n",
       "It is worth noting that the document appears to be a legislative proposal, and the specific details about Withholding Tax may be subject to change or further clarification in subsequent legislation or regulations."
      ],
      "text/plain": [
       "<IPython.core.display.Markdown object>"
      ]
     },
     "metadata": {},
     "output_type": "display_data"
    }
   ],
   "source": [
    "# Question 6\n",
    "\n",
    "ask_rag(\"What does the document say about Withholding Tax?\")"
   ]
  }
 ],
 "metadata": {
  "kernelspec": {
   "display_name": "rag_env",
   "language": "python",
   "name": "python3"
  },
  "language_info": {
   "codemirror_mode": {
    "name": "ipython",
    "version": 3
   },
   "file_extension": ".py",
   "mimetype": "text/x-python",
   "name": "python",
   "nbconvert_exporter": "python",
   "pygments_lexer": "ipython3",
   "version": "3.12.3"
  }
 },
 "nbformat": 4,
 "nbformat_minor": 5
}
